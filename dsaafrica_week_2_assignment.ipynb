{
 "cells": [
  {
   "cell_type": "code",
   "execution_count": 1,
   "id": "0769db6b-251e-4417-8a5b-de11314c53fe",
   "metadata": {},
   "outputs": [],
   "source": [
    "## Import the required python libraries"
   ]
  },
  {
   "cell_type": "code",
   "execution_count": 1,
   "id": "c88adfcd-a3f6-4d32-85eb-8783432d81f7",
   "metadata": {},
   "outputs": [],
   "source": [
    "import numpy as np\n",
    "import pandas as pd\n",
    "import matplotlib.pyplot as plt\n",
    "import seaborn as sns"
   ]
  },
  {
   "cell_type": "code",
   "execution_count": 95,
   "id": "2ae30297-ccd9-4318-976e-9aeac78e03e5",
   "metadata": {},
   "outputs": [],
   "source": [
    "df = pd.read_csv(\"Weather_Data.csv\")"
   ]
  },
  {
   "cell_type": "code",
   "execution_count": 97,
   "id": "f2b81775-2231-4b6c-8101-c12ba9494da0",
   "metadata": {},
   "outputs": [
    {
     "data": {
      "text/html": [
       "<div>\n",
       "<style scoped>\n",
       "    .dataframe tbody tr th:only-of-type {\n",
       "        vertical-align: middle;\n",
       "    }\n",
       "\n",
       "    .dataframe tbody tr th {\n",
       "        vertical-align: top;\n",
       "    }\n",
       "\n",
       "    .dataframe thead th {\n",
       "        text-align: right;\n",
       "    }\n",
       "</style>\n",
       "<table border=\"1\" class=\"dataframe\">\n",
       "  <thead>\n",
       "    <tr style=\"text-align: right;\">\n",
       "      <th></th>\n",
       "      <th>Date/Time</th>\n",
       "      <th>Temp_C</th>\n",
       "      <th>Dew Point Temp_C</th>\n",
       "      <th>Rel Hum_%</th>\n",
       "      <th>Wind Speed_km/h</th>\n",
       "      <th>Visibility_km</th>\n",
       "      <th>Press_kPa</th>\n",
       "      <th>Weather</th>\n",
       "    </tr>\n",
       "  </thead>\n",
       "  <tbody>\n",
       "    <tr>\n",
       "      <th>0</th>\n",
       "      <td>1/1/2012 0:00</td>\n",
       "      <td>-1.8</td>\n",
       "      <td>-3.9</td>\n",
       "      <td>86</td>\n",
       "      <td>4</td>\n",
       "      <td>8.0</td>\n",
       "      <td>101.24</td>\n",
       "      <td>Fog</td>\n",
       "    </tr>\n",
       "    <tr>\n",
       "      <th>1</th>\n",
       "      <td>1/1/2012 1:00</td>\n",
       "      <td>-1.8</td>\n",
       "      <td>-3.7</td>\n",
       "      <td>87</td>\n",
       "      <td>4</td>\n",
       "      <td>8.0</td>\n",
       "      <td>101.24</td>\n",
       "      <td>Fog</td>\n",
       "    </tr>\n",
       "    <tr>\n",
       "      <th>2</th>\n",
       "      <td>1/1/2012 2:00</td>\n",
       "      <td>-1.8</td>\n",
       "      <td>-3.4</td>\n",
       "      <td>89</td>\n",
       "      <td>7</td>\n",
       "      <td>4.0</td>\n",
       "      <td>101.26</td>\n",
       "      <td>Freezing Drizzle,Fog</td>\n",
       "    </tr>\n",
       "    <tr>\n",
       "      <th>3</th>\n",
       "      <td>1/1/2012 3:00</td>\n",
       "      <td>-1.5</td>\n",
       "      <td>-3.2</td>\n",
       "      <td>88</td>\n",
       "      <td>6</td>\n",
       "      <td>4.0</td>\n",
       "      <td>101.27</td>\n",
       "      <td>Freezing Drizzle,Fog</td>\n",
       "    </tr>\n",
       "    <tr>\n",
       "      <th>4</th>\n",
       "      <td>1/1/2012 4:00</td>\n",
       "      <td>-1.5</td>\n",
       "      <td>-3.3</td>\n",
       "      <td>88</td>\n",
       "      <td>7</td>\n",
       "      <td>4.8</td>\n",
       "      <td>101.23</td>\n",
       "      <td>Fog</td>\n",
       "    </tr>\n",
       "  </tbody>\n",
       "</table>\n",
       "</div>"
      ],
      "text/plain": [
       "       Date/Time  Temp_C  Dew Point Temp_C  Rel Hum_%  Wind Speed_km/h  \\\n",
       "0  1/1/2012 0:00    -1.8              -3.9         86                4   \n",
       "1  1/1/2012 1:00    -1.8              -3.7         87                4   \n",
       "2  1/1/2012 2:00    -1.8              -3.4         89                7   \n",
       "3  1/1/2012 3:00    -1.5              -3.2         88                6   \n",
       "4  1/1/2012 4:00    -1.5              -3.3         88                7   \n",
       "\n",
       "   Visibility_km  Press_kPa               Weather  \n",
       "0            8.0     101.24                   Fog  \n",
       "1            8.0     101.24                   Fog  \n",
       "2            4.0     101.26  Freezing Drizzle,Fog  \n",
       "3            4.0     101.27  Freezing Drizzle,Fog  \n",
       "4            4.8     101.23                   Fog  "
      ]
     },
     "execution_count": 97,
     "metadata": {},
     "output_type": "execute_result"
    }
   ],
   "source": [
    "df.head()"
   ]
  },
  {
   "cell_type": "code",
   "execution_count": 99,
   "id": "bed00fa7-3490-4bd6-8fe8-e710477a555a",
   "metadata": {},
   "outputs": [
    {
     "data": {
      "text/plain": [
       "(8784, 8)"
      ]
     },
     "execution_count": 99,
     "metadata": {},
     "output_type": "execute_result"
    }
   ],
   "source": [
    "df.shape"
   ]
  },
  {
   "cell_type": "code",
   "execution_count": 101,
   "id": "2ce8ab1f-9a15-42ec-8ccd-3e836b0824c7",
   "metadata": {},
   "outputs": [
    {
     "data": {
      "text/plain": [
       "Index(['Date/Time', 'Temp_C', 'Dew Point Temp_C', 'Rel Hum_%',\n",
       "       'Wind Speed_km/h', 'Visibility_km', 'Press_kPa', 'Weather'],\n",
       "      dtype='object')"
      ]
     },
     "execution_count": 101,
     "metadata": {},
     "output_type": "execute_result"
    }
   ],
   "source": [
    "df.columns"
   ]
  },
  {
   "cell_type": "code",
   "execution_count": 103,
   "id": "f0d30546-85f3-4d7a-8ed3-6abbeb354bb2",
   "metadata": {},
   "outputs": [
    {
     "data": {
      "text/plain": [
       "Date/Time            object\n",
       "Temp_C              float64\n",
       "Dew Point Temp_C    float64\n",
       "Rel Hum_%             int64\n",
       "Wind Speed_km/h       int64\n",
       "Visibility_km       float64\n",
       "Press_kPa           float64\n",
       "Weather              object\n",
       "dtype: object"
      ]
     },
     "execution_count": 103,
     "metadata": {},
     "output_type": "execute_result"
    }
   ],
   "source": [
    "df.dtypes"
   ]
  },
  {
   "cell_type": "code",
   "execution_count": 105,
   "id": "f0a56978-2449-4e93-a14f-d4787610ce81",
   "metadata": {},
   "outputs": [
    {
     "data": {
      "text/plain": [
       "Date/Time           0\n",
       "Temp_C              0\n",
       "Dew Point Temp_C    0\n",
       "Rel Hum_%           0\n",
       "Wind Speed_km/h     0\n",
       "Visibility_km       0\n",
       "Press_kPa           0\n",
       "Weather             0\n",
       "dtype: int64"
      ]
     },
     "execution_count": 105,
     "metadata": {},
     "output_type": "execute_result"
    }
   ],
   "source": [
    "df.isnull().sum()"
   ]
  },
  {
   "cell_type": "code",
   "execution_count": 107,
   "id": "74f15eac-46da-4977-9ceb-05fb9af3473b",
   "metadata": {},
   "outputs": [
    {
     "data": {
      "text/plain": [
       "0       False\n",
       "1       False\n",
       "2       False\n",
       "3       False\n",
       "4       False\n",
       "        ...  \n",
       "8779    False\n",
       "8780    False\n",
       "8781    False\n",
       "8782    False\n",
       "8783    False\n",
       "Length: 8784, dtype: bool"
      ]
     },
     "execution_count": 107,
     "metadata": {},
     "output_type": "execute_result"
    }
   ],
   "source": [
    "df.duplicated()"
   ]
  },
  {
   "cell_type": "code",
   "execution_count": 109,
   "id": "524f04a6-222d-45a7-b275-8396c3efe7c5",
   "metadata": {},
   "outputs": [
    {
     "data": {
      "text/plain": [
       "0"
      ]
     },
     "execution_count": 109,
     "metadata": {},
     "output_type": "execute_result"
    }
   ],
   "source": [
    "df.duplicated().sum()"
   ]
  },
  {
   "cell_type": "code",
   "execution_count": 111,
   "id": "4ed22071-ab0e-492a-8abb-dabcbf732975",
   "metadata": {},
   "outputs": [
    {
     "data": {
      "text/html": [
       "<div>\n",
       "<style scoped>\n",
       "    .dataframe tbody tr th:only-of-type {\n",
       "        vertical-align: middle;\n",
       "    }\n",
       "\n",
       "    .dataframe tbody tr th {\n",
       "        vertical-align: top;\n",
       "    }\n",
       "\n",
       "    .dataframe thead th {\n",
       "        text-align: right;\n",
       "    }\n",
       "</style>\n",
       "<table border=\"1\" class=\"dataframe\">\n",
       "  <thead>\n",
       "    <tr style=\"text-align: right;\">\n",
       "      <th></th>\n",
       "      <th>count</th>\n",
       "      <th>mean</th>\n",
       "      <th>std</th>\n",
       "      <th>min</th>\n",
       "      <th>25%</th>\n",
       "      <th>50%</th>\n",
       "      <th>75%</th>\n",
       "      <th>max</th>\n",
       "    </tr>\n",
       "  </thead>\n",
       "  <tbody>\n",
       "    <tr>\n",
       "      <th>Temp_C</th>\n",
       "      <td>8784.0</td>\n",
       "      <td>8.798144</td>\n",
       "      <td>11.687883</td>\n",
       "      <td>-23.30</td>\n",
       "      <td>0.10</td>\n",
       "      <td>9.30</td>\n",
       "      <td>18.80</td>\n",
       "      <td>33.00</td>\n",
       "    </tr>\n",
       "    <tr>\n",
       "      <th>Dew Point Temp_C</th>\n",
       "      <td>8784.0</td>\n",
       "      <td>2.555294</td>\n",
       "      <td>10.883072</td>\n",
       "      <td>-28.50</td>\n",
       "      <td>-5.90</td>\n",
       "      <td>3.30</td>\n",
       "      <td>11.80</td>\n",
       "      <td>24.40</td>\n",
       "    </tr>\n",
       "    <tr>\n",
       "      <th>Rel Hum_%</th>\n",
       "      <td>8784.0</td>\n",
       "      <td>67.431694</td>\n",
       "      <td>16.918881</td>\n",
       "      <td>18.00</td>\n",
       "      <td>56.00</td>\n",
       "      <td>68.00</td>\n",
       "      <td>81.00</td>\n",
       "      <td>100.00</td>\n",
       "    </tr>\n",
       "    <tr>\n",
       "      <th>Wind Speed_km/h</th>\n",
       "      <td>8784.0</td>\n",
       "      <td>14.945469</td>\n",
       "      <td>8.688696</td>\n",
       "      <td>0.00</td>\n",
       "      <td>9.00</td>\n",
       "      <td>13.00</td>\n",
       "      <td>20.00</td>\n",
       "      <td>83.00</td>\n",
       "    </tr>\n",
       "    <tr>\n",
       "      <th>Visibility_km</th>\n",
       "      <td>8784.0</td>\n",
       "      <td>27.664447</td>\n",
       "      <td>12.622688</td>\n",
       "      <td>0.20</td>\n",
       "      <td>24.10</td>\n",
       "      <td>25.00</td>\n",
       "      <td>25.00</td>\n",
       "      <td>48.30</td>\n",
       "    </tr>\n",
       "    <tr>\n",
       "      <th>Press_kPa</th>\n",
       "      <td>8784.0</td>\n",
       "      <td>101.051623</td>\n",
       "      <td>0.844005</td>\n",
       "      <td>97.52</td>\n",
       "      <td>100.56</td>\n",
       "      <td>101.07</td>\n",
       "      <td>101.59</td>\n",
       "      <td>103.65</td>\n",
       "    </tr>\n",
       "  </tbody>\n",
       "</table>\n",
       "</div>"
      ],
      "text/plain": [
       "                   count        mean        std    min     25%     50%  \\\n",
       "Temp_C            8784.0    8.798144  11.687883 -23.30    0.10    9.30   \n",
       "Dew Point Temp_C  8784.0    2.555294  10.883072 -28.50   -5.90    3.30   \n",
       "Rel Hum_%         8784.0   67.431694  16.918881  18.00   56.00   68.00   \n",
       "Wind Speed_km/h   8784.0   14.945469   8.688696   0.00    9.00   13.00   \n",
       "Visibility_km     8784.0   27.664447  12.622688   0.20   24.10   25.00   \n",
       "Press_kPa         8784.0  101.051623   0.844005  97.52  100.56  101.07   \n",
       "\n",
       "                     75%     max  \n",
       "Temp_C             18.80   33.00  \n",
       "Dew Point Temp_C   11.80   24.40  \n",
       "Rel Hum_%          81.00  100.00  \n",
       "Wind Speed_km/h    20.00   83.00  \n",
       "Visibility_km      25.00   48.30  \n",
       "Press_kPa         101.59  103.65  "
      ]
     },
     "execution_count": 111,
     "metadata": {},
     "output_type": "execute_result"
    }
   ],
   "source": [
    "df.describe().T"
   ]
  },
  {
   "cell_type": "code",
   "execution_count": 113,
   "id": "65e3de12-69d6-4d13-9c99-0d6a3623f761",
   "metadata": {},
   "outputs": [],
   "source": [
    "Q1 = df['Temp_C'].quantile(0.25)"
   ]
  },
  {
   "cell_type": "code",
   "execution_count": 115,
   "id": "abab1c01-fa57-47c0-bba5-519fd2ba8f3e",
   "metadata": {},
   "outputs": [],
   "source": [
    "Q3 = df['Temp_C'].quantile(0.75)"
   ]
  },
  {
   "cell_type": "code",
   "execution_count": 117,
   "id": "23a8783c-d833-4806-99b1-dec0272108e1",
   "metadata": {},
   "outputs": [],
   "source": [
    "IQR = Q3 - Q1"
   ]
  },
  {
   "cell_type": "code",
   "execution_count": 119,
   "id": "da63374a-b32f-48da-ab30-c54350e7450d",
   "metadata": {},
   "outputs": [
    {
     "data": {
      "image/png": "[encoded data removed]",
      "text/plain": [
       "<Figure size 1000x700 with 1 Axes>"
      ]
     },
     "metadata": {},
     "output_type": "display_data"
    }
   ],
   "source": [
    "plt.figure(figsize = (10, 7))\n",
    "sns.boxplot(df)\n",
    "plt.show()"
   ]
  },
  {
   "cell_type": "code",
   "execution_count": null,
   "id": "76f1c6ca-2a6b-4a19-998b-b790b531b3cf",
   "metadata": {},
   "outputs": [],
   "source": []
  }
 ],
 "metadata": {
  "kernelspec": {
   "display_name": "Python 3 (ipykernel)",
   "language": "python",
   "name": "python3"
  },
  "language_info": {
   "codemirror_mode": {
    "name": "ipython",
    "version": 3
   },
   "file_extension": ".py",
   "mimetype": "text/x-python",
   "name": "python",
   "nbconvert_exporter": "python",
   "pygments_lexer": "ipython3",
   "version": "3.11.7"
  }
 },
 "nbformat": 4,
 "nbformat_minor": 5
}
